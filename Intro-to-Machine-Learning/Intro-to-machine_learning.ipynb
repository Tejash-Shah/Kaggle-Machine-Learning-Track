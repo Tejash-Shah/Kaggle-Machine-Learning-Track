{
  "cells": [
    {
      "metadata": {
        "_cell_guid": "e81ee64d-e474-4662-9036-ce23df615199",
        "_uuid": "b6269c0e8f417f82daf093dda8fa0da6d2c57d86"
      },
      "cell_type": "markdown",
      "source": "Sample of code below."
    },
    {
      "metadata": {
        "_cell_guid": "86b26423-563a-4fa1-a595-89e25ff93089",
        "_uuid": "1c728098629e1301643443b1341556a15c089b2b",
        "trusted": true
      },
      "cell_type": "code",
      "source": "import pandas as pd\n\nmain_file_path = '../input/train.csv'\ndata = pd.read_csv(main_file_path)\nprint('hello world')",
      "execution_count": 1,
      "outputs": [
        {
          "output_type": "stream",
          "text": "hello world\n",
          "name": "stdout"
        }
      ]
    },
    {
      "metadata": {
        "_cell_guid": "ee765823-3311-492b-8eab-ebf9b13eed72",
        "_uuid": "68f77269fca79ff042be031661232fcaec82170c"
      },
      "cell_type": "markdown",
      "source": "**Your turn #1**"
    },
    {
      "metadata": {
        "_cell_guid": "81851439-a7e0-45b6-a679-2e2fe5a3a032",
        "_uuid": "e74158e4ae42d36dd5a5be80fbd6ca6494cb1fc1",
        "trusted": true
      },
      "cell_type": "code",
      "source": "#1#List of columns\ndata.columns",
      "execution_count": 2,
      "outputs": [
        {
          "output_type": "execute_result",
          "execution_count": 2,
          "data": {
            "text/plain": "Index(['Id', 'MSSubClass', 'MSZoning', 'LotFrontage', 'LotArea', 'Street',\n       'Alley', 'LotShape', 'LandContour', 'Utilities', 'LotConfig',\n       'LandSlope', 'Neighborhood', 'Condition1', 'Condition2', 'BldgType',\n       'HouseStyle', 'OverallQual', 'OverallCond', 'YearBuilt', 'YearRemodAdd',\n       'RoofStyle', 'RoofMatl', 'Exterior1st', 'Exterior2nd', 'MasVnrType',\n       'MasVnrArea', 'ExterQual', 'ExterCond', 'Foundation', 'BsmtQual',\n       'BsmtCond', 'BsmtExposure', 'BsmtFinType1', 'BsmtFinSF1',\n       'BsmtFinType2', 'BsmtFinSF2', 'BsmtUnfSF', 'TotalBsmtSF', 'Heating',\n       'HeatingQC', 'CentralAir', 'Electrical', '1stFlrSF', '2ndFlrSF',\n       'LowQualFinSF', 'GrLivArea', 'BsmtFullBath', 'BsmtHalfBath', 'FullBath',\n       'HalfBath', 'BedroomAbvGr', 'KitchenAbvGr', 'KitchenQual',\n       'TotRmsAbvGrd', 'Functional', 'Fireplaces', 'FireplaceQu', 'GarageType',\n       'GarageYrBlt', 'GarageFinish', 'GarageCars', 'GarageArea', 'GarageQual',\n       'GarageCond', 'PavedDrive', 'WoodDeckSF', 'OpenPorchSF',\n       'EnclosedPorch', '3SsnPorch', 'ScreenPorch', 'PoolArea', 'PoolQC',\n       'Fence', 'MiscFeature', 'MiscVal', 'MoSold', 'YrSold', 'SaleType',\n       'SaleCondition', 'SalePrice'],\n      dtype='object')"
          },
          "metadata": {}
        }
      ]
    },
    {
      "metadata": {
        "_cell_guid": "53172907-cc04-4ace-9298-39ed5938d505",
        "_uuid": "c7f447feffa1f95542dac7cf721fad2b08630f85",
        "trusted": true
      },
      "cell_type": "code",
      "source": "#2#3#Extracting 'SalePrice' to DataFrame 'workout'\nworkout_data=data.SalePrice\nworkout_data.head()",
      "execution_count": 3,
      "outputs": [
        {
          "output_type": "execute_result",
          "execution_count": 3,
          "data": {
            "text/plain": "0    208500\n1    181500\n2    223500\n3    140000\n4    250000\nName: SalePrice, dtype: int64"
          },
          "metadata": {}
        }
      ]
    },
    {
      "metadata": {
        "_cell_guid": "2550388c-57f7-46fc-b56c-5f7a2cc6c8fc",
        "_uuid": "ccc0bf7dee5fdba71b6d473c5faf7750aad57555",
        "trusted": true
      },
      "cell_type": "code",
      "source": "#4#taking two columns - (1)Id (2) LotFrontage\ncolumns=['Id','LotFrontage']\ndata_1=data[columns]\n#5#\ndata_1.describe()\n",
      "execution_count": 4,
      "outputs": [
        {
          "output_type": "execute_result",
          "execution_count": 4,
          "data": {
            "text/plain": "                Id  LotFrontage\ncount  1460.000000  1201.000000\nmean    730.500000    70.049958\nstd     421.610009    24.284752\nmin       1.000000    21.000000\n25%     365.750000    59.000000\n50%     730.500000    69.000000\n75%    1095.250000    80.000000\nmax    1460.000000   313.000000",
            "text/html": "<div>\n<style>\n    .dataframe thead tr:only-child th {\n        text-align: right;\n    }\n\n    .dataframe thead th {\n        text-align: left;\n    }\n\n    .dataframe tbody tr th {\n        vertical-align: top;\n    }\n</style>\n<table border=\"1\" class=\"dataframe\">\n  <thead>\n    <tr style=\"text-align: right;\">\n      <th></th>\n      <th>Id</th>\n      <th>LotFrontage</th>\n    </tr>\n  </thead>\n  <tbody>\n    <tr>\n      <th>count</th>\n      <td>1460.000000</td>\n      <td>1201.000000</td>\n    </tr>\n    <tr>\n      <th>mean</th>\n      <td>730.500000</td>\n      <td>70.049958</td>\n    </tr>\n    <tr>\n      <th>std</th>\n      <td>421.610009</td>\n      <td>24.284752</td>\n    </tr>\n    <tr>\n      <th>min</th>\n      <td>1.000000</td>\n      <td>21.000000</td>\n    </tr>\n    <tr>\n      <th>25%</th>\n      <td>365.750000</td>\n      <td>59.000000</td>\n    </tr>\n    <tr>\n      <th>50%</th>\n      <td>730.500000</td>\n      <td>69.000000</td>\n    </tr>\n    <tr>\n      <th>75%</th>\n      <td>1095.250000</td>\n      <td>80.000000</td>\n    </tr>\n    <tr>\n      <th>max</th>\n      <td>1460.000000</td>\n      <td>313.000000</td>\n    </tr>\n  </tbody>\n</table>\n</div>"
          },
          "metadata": {}
        }
      ]
    },
    {
      "metadata": {
        "_cell_guid": "afa19db0-6c9b-442e-9893-f9de17dec775",
        "_uuid": "890aaffe869ba6d544bf8441910a35a13763efea"
      },
      "cell_type": "markdown",
      "source": "**Your turn #2**"
    },
    {
      "metadata": {
        "_cell_guid": "5f497844-6209-4cc2-8915-7f445f5534b9",
        "_uuid": "30522818f46787f15d99381b0f1e06b84dbf1cf2",
        "trusted": true
      },
      "cell_type": "code",
      "source": "data.columns",
      "execution_count": 5,
      "outputs": [
        {
          "output_type": "execute_result",
          "execution_count": 5,
          "data": {
            "text/plain": "Index(['Id', 'MSSubClass', 'MSZoning', 'LotFrontage', 'LotArea', 'Street',\n       'Alley', 'LotShape', 'LandContour', 'Utilities', 'LotConfig',\n       'LandSlope', 'Neighborhood', 'Condition1', 'Condition2', 'BldgType',\n       'HouseStyle', 'OverallQual', 'OverallCond', 'YearBuilt', 'YearRemodAdd',\n       'RoofStyle', 'RoofMatl', 'Exterior1st', 'Exterior2nd', 'MasVnrType',\n       'MasVnrArea', 'ExterQual', 'ExterCond', 'Foundation', 'BsmtQual',\n       'BsmtCond', 'BsmtExposure', 'BsmtFinType1', 'BsmtFinSF1',\n       'BsmtFinType2', 'BsmtFinSF2', 'BsmtUnfSF', 'TotalBsmtSF', 'Heating',\n       'HeatingQC', 'CentralAir', 'Electrical', '1stFlrSF', '2ndFlrSF',\n       'LowQualFinSF', 'GrLivArea', 'BsmtFullBath', 'BsmtHalfBath', 'FullBath',\n       'HalfBath', 'BedroomAbvGr', 'KitchenAbvGr', 'KitchenQual',\n       'TotRmsAbvGrd', 'Functional', 'Fireplaces', 'FireplaceQu', 'GarageType',\n       'GarageYrBlt', 'GarageFinish', 'GarageCars', 'GarageArea', 'GarageQual',\n       'GarageCond', 'PavedDrive', 'WoodDeckSF', 'OpenPorchSF',\n       'EnclosedPorch', '3SsnPorch', 'ScreenPorch', 'PoolArea', 'PoolQC',\n       'Fence', 'MiscFeature', 'MiscVal', 'MoSold', 'YrSold', 'SaleType',\n       'SaleCondition', 'SalePrice'],\n      dtype='object')"
          },
          "metadata": {}
        }
      ]
    },
    {
      "metadata": {
        "_cell_guid": "f415da2a-94b6-4e51-baf5-f1fb3b4598c0",
        "_uuid": "02d057553ed70ae82529e3054c6f753103e3494c",
        "trusted": true
      },
      "cell_type": "code",
      "source": "y=data.SalePrice\ny.head()",
      "execution_count": 6,
      "outputs": [
        {
          "output_type": "execute_result",
          "execution_count": 6,
          "data": {
            "text/plain": "0    208500\n1    181500\n2    223500\n3    140000\n4    250000\nName: SalePrice, dtype: int64"
          },
          "metadata": {}
        }
      ]
    },
    {
      "metadata": {
        "_cell_guid": "5a99d3d1-8784-4116-9a9f-858ed6bdcad7",
        "_uuid": "21a7e100715d418d6c99658472d254eb94a7cb8a",
        "trusted": true
      },
      "cell_type": "code",
      "source": "predictor_columns=['LotArea','YearBuilt','1stFlrSF','2ndFlrSF','FullBath','BedroomAbvGr','TotRmsAbvGrd']\nX=data[predictor_columns]\nX.head()",
      "execution_count": 7,
      "outputs": [
        {
          "output_type": "execute_result",
          "execution_count": 7,
          "data": {
            "text/plain": "   LotArea  YearBuilt  1stFlrSF  2ndFlrSF  FullBath  BedroomAbvGr  \\\n0     8450       2003       856       854         2             3   \n1     9600       1976      1262         0         2             3   \n2    11250       2001       920       866         2             3   \n3     9550       1915       961       756         1             3   \n4    14260       2000      1145      1053         2             4   \n\n   TotRmsAbvGrd  \n0             8  \n1             6  \n2             6  \n3             7  \n4             9  ",
            "text/html": "<div>\n<style>\n    .dataframe thead tr:only-child th {\n        text-align: right;\n    }\n\n    .dataframe thead th {\n        text-align: left;\n    }\n\n    .dataframe tbody tr th {\n        vertical-align: top;\n    }\n</style>\n<table border=\"1\" class=\"dataframe\">\n  <thead>\n    <tr style=\"text-align: right;\">\n      <th></th>\n      <th>LotArea</th>\n      <th>YearBuilt</th>\n      <th>1stFlrSF</th>\n      <th>2ndFlrSF</th>\n      <th>FullBath</th>\n      <th>BedroomAbvGr</th>\n      <th>TotRmsAbvGrd</th>\n    </tr>\n  </thead>\n  <tbody>\n    <tr>\n      <th>0</th>\n      <td>8450</td>\n      <td>2003</td>\n      <td>856</td>\n      <td>854</td>\n      <td>2</td>\n      <td>3</td>\n      <td>8</td>\n    </tr>\n    <tr>\n      <th>1</th>\n      <td>9600</td>\n      <td>1976</td>\n      <td>1262</td>\n      <td>0</td>\n      <td>2</td>\n      <td>3</td>\n      <td>6</td>\n    </tr>\n    <tr>\n      <th>2</th>\n      <td>11250</td>\n      <td>2001</td>\n      <td>920</td>\n      <td>866</td>\n      <td>2</td>\n      <td>3</td>\n      <td>6</td>\n    </tr>\n    <tr>\n      <th>3</th>\n      <td>9550</td>\n      <td>1915</td>\n      <td>961</td>\n      <td>756</td>\n      <td>1</td>\n      <td>3</td>\n      <td>7</td>\n    </tr>\n    <tr>\n      <th>4</th>\n      <td>14260</td>\n      <td>2000</td>\n      <td>1145</td>\n      <td>1053</td>\n      <td>2</td>\n      <td>4</td>\n      <td>9</td>\n    </tr>\n  </tbody>\n</table>\n</div>"
          },
          "metadata": {}
        }
      ]
    },
    {
      "metadata": {
        "_cell_guid": "098d854c-a938-4c7f-b6e1-f8a1fab0c6cb",
        "_uuid": "90edfdbd9637f663c47a21fdedf983b7222aab70",
        "trusted": true
      },
      "cell_type": "code",
      "source": "from sklearn.tree import DecisionTreeRegressor\nDTR=DecisionTreeRegressor()\nDTR.fit(X,y)",
      "execution_count": 8,
      "outputs": [
        {
          "output_type": "execute_result",
          "execution_count": 8,
          "data": {
            "text/plain": "DecisionTreeRegressor(criterion='mse', max_depth=None, max_features=None,\n           max_leaf_nodes=None, min_impurity_decrease=0.0,\n           min_impurity_split=None, min_samples_leaf=1,\n           min_samples_split=2, min_weight_fraction_leaf=0.0,\n           presort=False, random_state=None, splitter='best')"
          },
          "metadata": {}
        }
      ]
    },
    {
      "metadata": {
        "_cell_guid": "78a057c5-c781-496d-8f77-7ea8aa670cc7",
        "_uuid": "2d0eb755710a5d51bef899ae45b46623bb01ba1b",
        "trusted": true
      },
      "cell_type": "code",
      "source": "print(\"Making predictions for the following houses\")\nprint(X.head())\nprint(\"The predictions are:\")\nprint(DTR.predict(X.head()))\n",
      "execution_count": 9,
      "outputs": [
        {
          "output_type": "stream",
          "text": "Making predictions for the following houses\n   LotArea  YearBuilt  1stFlrSF  2ndFlrSF  FullBath  BedroomAbvGr  \\\n0     8450       2003       856       854         2             3   \n1     9600       1976      1262         0         2             3   \n2    11250       2001       920       866         2             3   \n3     9550       1915       961       756         1             3   \n4    14260       2000      1145      1053         2             4   \n\n   TotRmsAbvGrd  \n0             8  \n1             6  \n2             6  \n3             7  \n4             9  \nThe predictions are:\n[ 208500.  181500.  223500.  140000.  250000.]\n",
          "name": "stdout"
        }
      ]
    },
    {
      "metadata": {
        "_cell_guid": "b459d8e9-3ab5-414f-8029-54a09fa386c1",
        "_uuid": "240e92726ea5b658f0f059b3c75326f390638bce"
      },
      "cell_type": "markdown",
      "source": "**Your turn #3**"
    },
    {
      "metadata": {
        "_cell_guid": "b57d04e7-0c76-4952-9085-63ecf7cba8ac",
        "_uuid": "7a94b1f63a693602f371b5b3c22fb8113d598f44",
        "collapsed": true,
        "trusted": true
      },
      "cell_type": "code",
      "source": "from sklearn.model_selection import train_test_split\ntrain_X, val_X, train_y, val_y = train_test_split(X,y,random_state=21)",
      "execution_count": 10,
      "outputs": []
    },
    {
      "metadata": {
        "_cell_guid": "430edcf2-f889-4f1c-9799-9c8c669cefb0",
        "_uuid": "926aa2dc67c36e68e33c4d28e908f432b2ad1118",
        "trusted": true
      },
      "cell_type": "code",
      "source": "DTR.fit(train_X,train_y)",
      "execution_count": 11,
      "outputs": [
        {
          "output_type": "execute_result",
          "execution_count": 11,
          "data": {
            "text/plain": "DecisionTreeRegressor(criterion='mse', max_depth=None, max_features=None,\n           max_leaf_nodes=None, min_impurity_decrease=0.0,\n           min_impurity_split=None, min_samples_leaf=1,\n           min_samples_split=2, min_weight_fraction_leaf=0.0,\n           presort=False, random_state=None, splitter='best')"
          },
          "metadata": {}
        }
      ]
    },
    {
      "metadata": {
        "_cell_guid": "75357af3-d765-404a-929a-3d17f24979aa",
        "_uuid": "bbdb93cf0f423f87035525db1425f5a147dd5f05",
        "collapsed": true,
        "trusted": true
      },
      "cell_type": "code",
      "source": "predict_y=DTR.predict(val_X)",
      "execution_count": 12,
      "outputs": []
    },
    {
      "metadata": {
        "_cell_guid": "dc8b833b-888c-45d0-b8c3-bf13e178e3b2",
        "_uuid": "d1731c55ed60a214e6621999921b68efa53ac344",
        "trusted": true
      },
      "cell_type": "code",
      "source": "from sklearn.metrics import mean_absolute_error\nmean_absolute_error(val_y,predict_y)",
      "execution_count": 13,
      "outputs": [
        {
          "output_type": "execute_result",
          "execution_count": 13,
          "data": {
            "text/plain": "30488.835616438355"
          },
          "metadata": {}
        }
      ]
    },
    {
      "metadata": {
        "_cell_guid": "944590e4-a4ef-4851-b49a-98419b143869",
        "_uuid": "51041a8f48e6a63930f69644777401aa22e6844d",
        "trusted": true
      },
      "cell_type": "code",
      "source": "print(predict_y)",
      "execution_count": 14,
      "outputs": [
        {
          "output_type": "stream",
          "text": "[ 149000.  197900.  306000.  189000.  122900.  245000.  167240.  310000.\n  466500.  170000.  164900.  207500.  218000.   82000.  116000.  118000.\n  269500.  155000.  299800.   89000.  208900.  184000.  185500.   86000.\n  274725.  745000.  110000.  140000.  106250.  165000.  129000.  143000.\n  127500.  147500.  127500.   87500.  253293.  167000.  189000.  199900.\n  224000.  129900.  139000.  251000.  102776.  184900.  118000.  395000.\n  212000.  255000.  119000.  154000.  124000.  286000.  222500.  160000.\n  118000.  180000.  315000.  290000.  207000.  119000.  171000.  132250.\n  125000.  249700.  147000.  127500.  112500.  105500.  128500.  136500.\n  173000.  107000.  120000.  192140.  155000.  176000.  145000.  252678.\n  169500.  199900.  194201.  133500.  175000.  305000.  145250.   90000.\n  155000.  194500.  148500.   91000.  108000.  179540.  179500.  385000.\n   82000.  145000.  167000.  179900.  264132.  190000.  199900.  147000.\n  202665.   75500.   91000.  306000.  125000.  285000.  145000.  201000.\n  178000.  130500.  181000.  280000.  139000.  150500.  179540.   68400.\n  225000.  230000.  310000.  119000.  150750.  160000.  127500.  582933.\n  167500.  212000.  149900.  215000.  147000.  178000.  119200.  134800.\n  192000.  143000.  140000.  171900.  139000.  225000.  145000.   80500.\n  105000.  181000.  159000.  169000.  403000.   96500.  124000.  229456.\n   81000.  145000.  160000.  139000.   88000.  175000.  105000.  485000.\n  201000.  232000.  143000.  152000.  149000.  120000.  149000.  142953.\n  144000.  222000.  294000.  132500.  242000.  110000.  381000.  174000.\n  281213.  129900.  127000.  128000.  229456.  214000.  283463.  262500.\n  118000.  283463.  130000.  217500.  184000.  124000.  385000.  225000.\n  395000.  106250.  255900.  179200.  311872.  316600.  285000.  269500.\n  108000.  244400.  213000.  305000.  185000.  227000.  178000.  189950.\n  149900.  171000.  139000.  162000.  183000.  124900.  395000.  128000.\n  250000.  381000.   98000.  137500.  156000.  164900.  122000.  112000.\n  147400.   87500.  149000.  213000.  131500.  183000.  173500.  315000.\n   96500.  147400.  124900.  117000.  171750.  158000.  128000.  261500.\n  180000.  127500.  145000.  179500.   89500.  100000.  127000.  101000.\n  260000.  108000.  119750.  175500.   81000.  372402.  201800.  223500.\n  225000.  124000.  178900.  168000.  181000.  120000.  235128.  207500.\n  184000.  148500.  218000.  127500.  181000.  126500.  137500.  124500.\n   99900.  112000.  207500.  380000.  180000.  174000.  189000.  159500.\n   67000.  156000.  205000.  466500.  100000.  197000.  124000.  190000.\n  370878.   75000.  100000.  159500.   80000.  125000.  163000.  187000.\n  246578.  174000.  185000.  236500.  115000.  176000.  144000.  109500.\n  168000.   91000.  210000.  222000.  174000.  131000.   91000.  370878.\n  137000.  185850.  305900.  149900.  190000.  280000.  148000.  131500.\n  206900.  114504.  153575.  193000.   79000.  178000.  240000.  167500.\n  290000.  161500.  228500.  143250.  119000.  100000.  118000.  245500.\n   85000.  143000.  185500.  168000.  180000.  268000.  119000.  118000.\n  263000.  160000.  136000.  173500.  200500.  164000.   83000.  106250.\n  152000.  112000.  185000.  235000.  118964.  139000.   91000.  122000.\n  201000.  118500.  281213.  127500.  160000.]\n",
          "name": "stdout"
        }
      ]
    },
    {
      "metadata": {
        "_cell_guid": "4bf51c39-9d7c-44d7-8883-a77c395a49cf",
        "_uuid": "c5478eb35cb595860796be064f5f054383e12e64"
      },
      "cell_type": "markdown",
      "source": "**Your turn #4**"
    },
    {
      "metadata": {
        "_cell_guid": "b7556417-3298-4e56-a05a-97713ea30e6a",
        "_uuid": "e8c972760fbd07d06a25d098cd34fbeed01ed7a6",
        "collapsed": true,
        "trusted": true
      },
      "cell_type": "code",
      "source": "from sklearn.tree import DecisionTreeRegressor \nfrom sklearn.metrics import mean_absolute_error\n\ndef get_mae(max_leaf_nodes,train_X,train_y,validation_X,validation_y):\n    DTR=DecisionTreeRegressor(max_leaf_nodes=max_leaf_nodes,random_state=21)\n    DTR.fit(train_X,train_y)\n    predicted_y=DTR.predict(validation_X)\n    return mean_absolute_error(predicted_y,validation_y)",
      "execution_count": 15,
      "outputs": []
    },
    {
      "metadata": {
        "_cell_guid": "c7db1570-752f-4525-9ab0-7706b194c325",
        "_uuid": "09a9fbc92ba3ffa70951155d4118e9dc782878ed",
        "trusted": true
      },
      "cell_type": "code",
      "source": "l=[5,50,100,110,120,125]\nfor i in l:\n    get_mae(i,train_X,train_y,val_X,val_y)\n    print(\"Mean absolute error for {0} no of leaf nodes is {1}\".format(i,get_mae(i,train_X,train_y,val_X,val_y)))",
      "execution_count": 16,
      "outputs": [
        {
          "output_type": "stream",
          "text": "Mean absolute error for 5 no of leaf nodes is 35522.79287891978\nMean absolute error for 50 no of leaf nodes is 29600.94613980485\nMean absolute error for 100 no of leaf nodes is 28808.18733700385\nMean absolute error for 110 no of leaf nodes is 28639.879365770714\nMean absolute error for 120 no of leaf nodes is 28827.53785407084\nMean absolute error for 125 no of leaf nodes is 28922.885475735817\n",
          "name": "stdout"
        }
      ]
    },
    {
      "metadata": {
        "_uuid": "4ad8913aa7de3148610520596f5ed96f43061315"
      },
      "cell_type": "markdown",
      "source": "**Your turn #4**"
    },
    {
      "metadata": {
        "trusted": true,
        "_uuid": "3624079776062e1d4f1c3094793fd86e02737dfc"
      },
      "cell_type": "code",
      "source": "from sklearn.ensemble import RandomForestRegressor\nfrom sklearn.metrics import mean_absolute_error\nRTR=RandomForestRegressor()\nRTR.fit(train_X,train_y)\npredicted_y=RTR.predict(val_X)\nmean_absolute_error(predicted_y,val_y)",
      "execution_count": 19,
      "outputs": [
        {
          "output_type": "execute_result",
          "execution_count": 19,
          "data": {
            "text/plain": "24483.259817351594"
          },
          "metadata": {}
        }
      ]
    },
    {
      "metadata": {
        "trusted": true,
        "collapsed": true,
        "_uuid": "a8862f0b5d339754fe819ab2817733a159ec8b21"
      },
      "cell_type": "code",
      "source": "",
      "execution_count": null,
      "outputs": []
    }
  ],
  "metadata": {
    "language_info": {
      "name": "python",
      "version": "3.6.4",
      "mimetype": "text/x-python",
      "codemirror_mode": {
        "name": "ipython",
        "version": 3
      },
      "pygments_lexer": "ipython3",
      "nbconvert_exporter": "python",
      "file_extension": ".py"
    },
    "kernelspec": {
      "display_name": "Python 3",
      "language": "python",
      "name": "python3"
    }
  },
  "nbformat": 4,
  "nbformat_minor": 1
}