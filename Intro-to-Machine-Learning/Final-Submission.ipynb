{
  "cells": [
    {
      "metadata": {
        "_cell_guid": "1d40234b-9fb8-42cc-bc3a-720970e75b16",
        "_uuid": "1fb7e6a096c069a37e91572a7ebdb8898264860b",
        "collapsed": true,
        "trusted": false
      },
      "cell_type": "code",
      "source": "from sklearn.ensemble import RandomForestRegressor\nimport pandas as pd",
      "execution_count": null,
      "outputs": []
    },
    {
      "metadata": {
        "_cell_guid": "c5be9bfc-704c-44b5-8654-108089cfedbb",
        "_uuid": "745d6decd24b4373188edda490ed024a3e9a86ca",
        "collapsed": true,
        "trusted": false
      },
      "cell_type": "code",
      "source": "path='../input/train.csv'\ndata=pd.read_csv(path)\ntrain_y=data.SalePrice",
      "execution_count": null,
      "outputs": []
    },
    {
      "metadata": {
        "_cell_guid": "aa45e344-c603-49e1-9f52-54891f62099b",
        "_uuid": "7f28ec9e8a9e5de89fe882cb87e61e4c3244591f",
        "collapsed": true,
        "trusted": false
      },
      "cell_type": "code",
      "source": "columns=['LotArea', 'OverallQual', 'YearBuilt', 'TotRmsAbvGrd']\ntrain_X=data[columns]",
      "execution_count": null,
      "outputs": []
    },
    {
      "metadata": {
        "_cell_guid": "5260bee7-e301-441a-8319-5d4f01e251c0",
        "_uuid": "2241bd0a75aa31785f9e20d4c37f37d464aa7558",
        "trusted": false,
        "collapsed": true
      },
      "cell_type": "code",
      "source": "RFR=RandomForestRegressor()\nRFR.fit(train_X,train_y)",
      "execution_count": null,
      "outputs": []
    },
    {
      "metadata": {
        "_cell_guid": "c116e26a-7712-4071-877f-50787b4802c0",
        "_uuid": "159dafb4b1ba20dfd7bf6c2fa6bd8bedb942813c",
        "trusted": false,
        "collapsed": true
      },
      "cell_type": "code",
      "source": "test_path='../input/test.csv'\ntest_data=pd.read_csv(test_path)",
      "execution_count": null,
      "outputs": []
    },
    {
      "metadata": {
        "_cell_guid": "7d2f126c-15f6-4345-9477-e102d3973f8c",
        "_uuid": "4239b61d414f1825930395f17802bca7c9966736",
        "collapsed": true,
        "trusted": false
      },
      "cell_type": "code",
      "source": "columns=['LotArea', 'OverallQual', 'YearBuilt', 'TotRmsAbvGrd']\ntest_1=test_data[columns]",
      "execution_count": null,
      "outputs": []
    },
    {
      "metadata": {
        "_cell_guid": "8200e759-c1b1-46b3-bd4e-de92c69c63aa",
        "_uuid": "500654049c0fd228ec07eca4c398ac6924481f3c",
        "collapsed": true,
        "trusted": false
      },
      "cell_type": "code",
      "source": "predicted_y=RFR.predict(test_1)",
      "execution_count": null,
      "outputs": []
    },
    {
      "metadata": {
        "_cell_guid": "698463c2-dce8-4139-8a12-46372da550f2",
        "_uuid": "2b752e40795a21f3fe545371c9a6f6c79daabcb0",
        "collapsed": true,
        "trusted": false
      },
      "cell_type": "code",
      "source": "submission=pd.DataFrame({'Id':test_data.Id,'SalePrice':predicted_y})\nsubmission.to_csv('submission.csv',index=False)",
      "execution_count": null,
      "outputs": []
    }
  ],
  "metadata": {
    "kernelspec": {
      "display_name": "Python 3",
      "language": "python",
      "name": "python3"
    },
    "language_info": {
      "name": "python",
      "mimetype": "text/x-python",
      "codemirror_mode": {
        "name": "ipython",
        "version": 3
      },
      "version": "3.6.4",
      "file_extension": ".py",
      "nbconvert_exporter": "python",
      "pygments_lexer": "ipython3"
    }
  },
  "nbformat": 4,
  "nbformat_minor": 1
}